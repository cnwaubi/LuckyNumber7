{
 "cells": [
  {
   "cell_type": "code",
   "execution_count": 1,
   "metadata": {},
   "outputs": [],
   "source": [
    "import pandas as pd\n",
    "from nba_api.stats.endpoints._base import Endpoint\n",
    "from nba_api.stats.library.http import NBAStatsHTTP\n",
    "from nba_api.stats.library.parameters import LastNGames, MeasureTypeDetailedDefense, Month, PaceAdjust, PerModeDetailed, Period, PlusMinus, Rank, Season, SeasonTypeAllStar, ConferenceNullable, DivisionSimpleNullable, GameScopeSimpleNullable, GameSegmentNullable, LeagueIDNullable, LocationNullable, OutcomeNullable, PlayerExperienceNullable, PlayerPositionAbbreviationNullable, SeasonSegmentNullable, ShotClockRangeNullable, StarterBenchNullable, DivisionNullable"
   ]
  },
  {
   "cell_type": "code",
   "execution_count": 2,
   "metadata": {},
   "outputs": [],
   "source": [
    "class LeagueDashTeamStats(Endpoint):\n",
    "    endpoint = 'leaguedashteamstats'\n",
    "    expected_data = {'LeagueDashTeamStats': ['TEAM_ID', 'TEAM_NAME', 'GP', 'W', 'L', 'W_PCT', 'MIN', 'FGM', 'FGA', 'FG_PCT', 'FG3M', 'FG3A', 'FG3_PCT', 'FTM', 'FTA', 'FT_PCT', 'OREB', 'DREB', 'REB', 'AST', 'TOV', 'STL', 'BLK', 'BLKA', 'PF', 'PFD', 'PTS', 'PLUS_MINUS', 'GP_RANK', 'W_RANK', 'L_RANK', 'W_PCT_RANK', 'MIN_RANK', 'FGM_RANK', 'FGA_RANK', 'FG_PCT_RANK', 'FG3M_RANK', 'FG3A_RANK', 'FG3_PCT_RANK', 'FTM_RANK', 'FTA_RANK', 'FT_PCT_RANK', 'OREB_RANK', 'DREB_RANK', 'REB_RANK', 'AST_RANK', 'TOV_RANK', 'STL_RANK', 'BLK_RANK', 'BLKA_RANK', 'PF_RANK', 'PFD_RANK', 'PTS_RANK', 'PLUS_MINUS_RANK', 'CFID', 'CFPARAMS']}\n",
    "\n",
    "    def __init__(self,\n",
    "                 last_n_games=LastNGames.default,\n",
    "                 measure_type_detailed_defense=MeasureTypeDetailedDefense.default,\n",
    "                 month=Month.default,\n",
    "                 opponent_team_id=0,\n",
    "                 pace_adjust=PaceAdjust.default,\n",
    "                 per_mode_detailed=PerModeDetailed.default,\n",
    "                 period=Period.default,\n",
    "                 plus_minus=PlusMinus.default,\n",
    "                 rank=Rank.default,\n",
    "                 season=Season.default,\n",
    "                 season_type_all_star=SeasonTypeAllStar.default,\n",
    "                 conference_nullable=ConferenceNullable.default,\n",
    "                 date_from_nullable='',\n",
    "                 date_to_nullable='',\n",
    "                 division_simple_nullable=DivisionSimpleNullable.default,\n",
    "                 game_scope_simple_nullable=GameScopeSimpleNullable.default,\n",
    "                 game_segment_nullable=GameSegmentNullable.default,\n",
    "                 league_id_nullable=LeagueIDNullable.default,\n",
    "                 location_nullable=LocationNullable.default,\n",
    "                 outcome_nullable=OutcomeNullable.default,\n",
    "                 po_round_nullable='',\n",
    "                 player_experience_nullable=PlayerExperienceNullable.default,\n",
    "                 player_position_abbreviation_nullable=PlayerPositionAbbreviationNullable.default,\n",
    "                 season_segment_nullable=SeasonSegmentNullable.default,\n",
    "                 shot_clock_range_nullable=ShotClockRangeNullable.default,\n",
    "                 starter_bench_nullable=StarterBenchNullable.default,\n",
    "                 team_id_nullable='',\n",
    "                 two_way_nullable='',\n",
    "                 vs_conference_nullable=ConferenceNullable.default,\n",
    "                 vs_division_nullable=DivisionNullable.default):\n",
    "        self.nba_response = NBAStatsHTTP().send_api_request(\n",
    "            endpoint=self.endpoint,\n",
    "            parameters={\n",
    "                'LastNGames': last_n_games,\n",
    "                'MeasureType': measure_type_detailed_defense,\n",
    "                'Month': month,\n",
    "                'OpponentTeamID': opponent_team_id,\n",
    "                'PaceAdjust': pace_adjust,\n",
    "                'PerMode': per_mode_detailed,\n",
    "                'Period': period,\n",
    "                'PlusMinus': plus_minus,\n",
    "                'Rank': rank,\n",
    "                'Season': season,\n",
    "                'SeasonType': season_type_all_star,\n",
    "                'Conference': conference_nullable,\n",
    "                'DateFrom': date_from_nullable,\n",
    "                'DateTo': date_to_nullable,\n",
    "                'Division': division_simple_nullable,\n",
    "                'GameScope': game_scope_simple_nullable,\n",
    "                'GameSegment': game_segment_nullable,\n",
    "                'LeagueID': league_id_nullable,\n",
    "                'Location': location_nullable,\n",
    "                'Outcome': outcome_nullable,\n",
    "                'PORound': po_round_nullable,\n",
    "                'PlayerExperience': player_experience_nullable,\n",
    "                'PlayerPosition': player_position_abbreviation_nullable,\n",
    "                'SeasonSegment': season_segment_nullable,\n",
    "                'ShotClockRange': shot_clock_range_nullable,\n",
    "                'StarterBench': starter_bench_nullable,\n",
    "                'TeamID': team_id_nullable,\n",
    "                'TwoWay': two_way_nullable,\n",
    "                'VsConference': vs_conference_nullable,\n",
    "                'VsDivision': vs_division_nullable\n",
    "            },\n",
    "        )\n",
    "        data_sets = self.nba_response.get_data_sets()\n",
    "        self.data_sets = [Endpoint.DataSet(data=data_set) for data_set_name, data_set in data_sets.items()]\n",
    "        self.league_dash_team_stats = Endpoint.DataSet(data=data_sets['LeagueDashTeamStats'])"
   ]
  },
  {
   "cell_type": "code",
   "execution_count": null,
   "metadata": {},
   "outputs": [],
   "source": [
    "expe"
   ]
  }
 ],
 "metadata": {
  "kernelspec": {
   "display_name": "Python 3",
   "language": "python",
   "name": "python3"
  },
  "language_info": {
   "codemirror_mode": {
    "name": "ipython",
    "version": 3
   },
   "file_extension": ".py",
   "mimetype": "text/x-python",
   "name": "python",
   "nbconvert_exporter": "python",
   "pygments_lexer": "ipython3",
   "version": "3.7.1"
  }
 },
 "nbformat": 4,
 "nbformat_minor": 2
}

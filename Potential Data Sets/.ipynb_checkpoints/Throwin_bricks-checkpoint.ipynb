{
 "cells": [
  {
   "cell_type": "code",
   "execution_count": 4,
   "metadata": {},
   "outputs": [],
   "source": [
    "import pandas as pd\n",
    "import requests as rq\n",
    "import json"
   ]
  },
  {
   "cell_type": "code",
   "execution_count": 5,
   "metadata": {},
   "outputs": [],
   "source": [
    "\n",
    "\n",
    "# This is the user agent string of Microsoft Edge. It's to trick the website that these requests are coming from old people who can't use computers!\n",
    "header_data= { \"User-Agent\":\"Mozilla/5.0 (Windows NT 10.0; Win64; x64) AppleWebKit/537.36 (KHTML like Gecko) Chrome/51.0.2704.79 Safari/537.36 Edge/14.14931\"}"
   ]
  },
  {
   "cell_type": "code",
   "execution_count": null,
   "metadata": {},
   "outputs": [],
   "source": []
  },
  {
   "cell_type": "code",
   "execution_count": null,
   "metadata": {},
   "outputs": [],
   "source": []
  },
  {
   "cell_type": "code",
   "execution_count": null,
   "metadata": {},
   "outputs": [],
   "source": []
  },
  {
   "cell_type": "code",
   "execution_count": 6,
   "metadata": {},
   "outputs": [],
   "source": [
    "season=[ \"2012-13\",\"2013-14\",\"2014-15\",\"2015-16\",\"2016-17\",\"2017-18\",\"2018-19\"]\n",
    "home_away=[\"Home\" , \"Road\" ]\n",
    "#i is the index for season\n",
    "i=0\n",
    "#j is the index for home_away\n",
    "j=0\n",
    "\n",
    "urlliteral= f\"https://stats.nba.com/stats/leaguedashteamstats?Conference=&DateFrom=&DateTo=&Division=&GameScope=&GameSegment=&LastNGames=0&LeagueID=00&Location={home_away[j]}&MeasureType=Base&Month=0&OpponentTeamID=0&Outcome=&PORound=0&PaceAdjust=N&PerMode=Totals&Period=0&PlayerExperience=&PlayerPosition=&PlusMinus=N&Rank=N&Season={season[i]}&SeasonSegment=&SeasonType=Regular+Season&ShotClockRange=&StarterBench=&TeamID=0&TwoWay=0&VsConference=&VsDivision=\"\n",
    "\n",
    "new=rq.get(urlliteral, headers=header_data).json()\n",
    "\n",
    "\n"
   ]
  },
  {
   "cell_type": "code",
   "execution_count": 16,
   "metadata": {},
   "outputs": [
    {
     "data": {
      "text/plain": [
       "'TEAM_NAME'"
      ]
     },
     "execution_count": 16,
     "metadata": {},
     "output_type": "execute_result"
    }
   ],
   "source": [
    "new[\"resultSets\"][0][\"headers\"][1]"
   ]
  },
  {
   "cell_type": "code",
   "execution_count": 27,
   "metadata": {},
   "outputs": [
    {
     "name": "stdout",
     "output_type": "stream",
     "text": [
      "TEAM_NAME W L W_PCT FTM FTA FT_PCT W_RANK L_RANK W_PCT_RANK FTM_RANK FTA_RANK FT_PCT_RANK\n",
      "Atlanta Hawks 25 16 0.61 595 856 0.695 15 15 15 27 24 28\n"
     ]
    }
   ],
   "source": [
    "print(new[\"resultSets\"][0][\"headers\"][1],\n",
    "      new[\"resultSets\"][0][\"headers\"][3],\n",
    "      new[\"resultSets\"][0][\"headers\"][4],\n",
    "      new[\"resultSets\"][0][\"headers\"][5],\n",
    "      new[\"resultSets\"][0][\"headers\"][13],\n",
    "      new[\"resultSets\"][0][\"headers\"][14],\n",
    "      new[\"resultSets\"][0][\"headers\"][15],\n",
    "      new[\"resultSets\"][0][\"headers\"][29],\n",
    "      new[\"resultSets\"][0][\"headers\"][30],\n",
    "      new[\"resultSets\"][0][\"headers\"][31],\n",
    "      new[\"resultSets\"][0][\"headers\"][39],\n",
    "      new[\"resultSets\"][0][\"headers\"][40],\n",
    "      new[\"resultSets\"][0][\"headers\"][41]\n",
    "    \n",
    ")\n",
    "#t is the team index in the list\n",
    "t=0\n",
    "print(new[\"resultSets\"][0][\"rowSet\"][t][1],\n",
    "      new[\"resultSets\"][0][\"rowSet\"][t][3],\n",
    "      new[\"resultSets\"][0][\"rowSet\"][t][4],\n",
    "      new[\"resultSets\"][0][\"rowSet\"][t][5],\n",
    "      new[\"resultSets\"][0][\"rowSet\"][t][13],\n",
    "      new[\"resultSets\"][0][\"rowSet\"][t][14],\n",
    "      new[\"resultSets\"][0][\"rowSet\"][t][15],\n",
    "      new[\"resultSets\"][0][\"rowSet\"][t][29],\n",
    "      new[\"resultSets\"][0][\"rowSet\"][t][30],\n",
    "      new[\"resultSets\"][0][\"rowSet\"][t][31],\n",
    "      new[\"resultSets\"][0][\"rowSet\"][t][39],\n",
    "      new[\"resultSets\"][0][\"rowSet\"][t][40],\n",
    "      new[\"resultSets\"][0][\"rowSet\"][t][41])"
   ]
  },
  {
   "cell_type": "code",
   "execution_count": 26,
   "metadata": {},
   "outputs": [
    {
     "name": "stdout",
     "output_type": "stream",
     "text": [
      "Atlanta Hawks 25 16 0.61 595 856 0.695 15 15 15 27 24 28\n"
     ]
    }
   ],
   "source": [
    "#t is the team index in the list\n",
    "t=0\n",
    "print(new[\"resultSets\"][0][\"rowSet\"][t][1],\n",
    "      new[\"resultSets\"][0][\"rowSet\"][t][3],\n",
    "      new[\"resultSets\"][0][\"rowSet\"][t][4],\n",
    "      new[\"resultSets\"][0][\"rowSet\"][t][5],\n",
    "      new[\"resultSets\"][0][\"rowSet\"][t][13],\n",
    "      new[\"resultSets\"][0][\"rowSet\"][t][14],\n",
    "      new[\"resultSets\"][0][\"rowSet\"][t][15],\n",
    "      new[\"resultSets\"][0][\"rowSet\"][t][29],\n",
    "      new[\"resultSets\"][0][\"rowSet\"][t][30],\n",
    "      new[\"resultSets\"][0][\"rowSet\"][t][31],\n",
    "      new[\"resultSets\"][0][\"rowSet\"][t][39],\n",
    "      new[\"resultSets\"][0][\"rowSet\"][t][40],\n",
    "      new[\"resultSets\"][0][\"rowSet\"][t][41])"
   ]
  },
  {
   "cell_type": "code",
   "execution_count": null,
   "metadata": {},
   "outputs": [],
   "source": []
  }
 ],
 "metadata": {
  "kernelspec": {
   "display_name": "Python 3",
   "language": "python",
   "name": "python3"
  },
  "language_info": {
   "codemirror_mode": {
    "name": "ipython",
    "version": 3
   },
   "file_extension": ".py",
   "mimetype": "text/x-python",
   "name": "python",
   "nbconvert_exporter": "python",
   "pygments_lexer": "ipython3",
   "version": "3.7.2"
  }
 },
 "nbformat": 4,
 "nbformat_minor": 2
}

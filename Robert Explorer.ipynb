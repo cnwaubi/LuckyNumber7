{
 "cells": [
  {
   "cell_type": "markdown",
   "metadata": {},
   "source": [
    "# Data Exploration and Cleanup"
   ]
  },
  {
   "cell_type": "code",
   "execution_count": 72,
   "metadata": {},
   "outputs": [],
   "source": [
    "import pandas as pd\n",
    "import matplotlib.pyplot as plt\n",
    "import numpy as np\n",
    "\n",
    "NBA_Data=pd.read_csv(\"./Potential Data Sets/NBA Free Throw Data.csv\")"
   ]
  },
  {
   "cell_type": "code",
   "execution_count": 41,
   "metadata": {},
   "outputs": [
    {
     "name": "stdout",
     "output_type": "stream",
     "text": [
      "<class 'pandas.core.frame.DataFrame'>\n",
      "RangeIndex: 630 entries, 0 to 629\n",
      "Data columns (total 16 columns):\n",
      "Team            630 non-null object\n",
      "Season          630 non-null object\n",
      "Venue           420 non-null object\n",
      "Wins            630 non-null int64\n",
      "Loss            630 non-null int64\n",
      "Win%            630 non-null float64\n",
      "FT Made         630 non-null int64\n",
      "FT Att          630 non-null int64\n",
      "FT%             630 non-null float64\n",
      "Win Rnk         630 non-null int64\n",
      "Loss Rnk        630 non-null int64\n",
      "Win% Rnk        630 non-null int64\n",
      "FT Made Rnk     630 non-null int64\n",
      "FT ATT Rnk      630 non-null int64\n",
      "FT% Rnk         630 non-null int64\n",
      "Total Points    630 non-null int64\n",
      "dtypes: float64(2), int64(11), object(3)\n",
      "memory usage: 78.8+ KB\n"
     ]
    }
   ],
   "source": [
    "NBA_Data.info()"
   ]
  },
  {
   "cell_type": "code",
   "execution_count": 43,
   "metadata": {},
   "outputs": [
    {
     "name": "stdout",
     "output_type": "stream",
     "text": [
      "<class 'pandas.core.frame.DataFrame'>\n",
      "RangeIndex: 630 entries, 0 to 629\n",
      "Data columns (total 16 columns):\n",
      "Team            630 non-null object\n",
      "Season          630 non-null object\n",
      "Venue           630 non-null object\n",
      "Wins            630 non-null int64\n",
      "Loss            630 non-null int64\n",
      "Win%            630 non-null float64\n",
      "FT Made         630 non-null int64\n",
      "FT Att          630 non-null int64\n",
      "FT%             630 non-null float64\n",
      "Win Rnk         630 non-null int64\n",
      "Loss Rnk        630 non-null int64\n",
      "Win% Rnk        630 non-null int64\n",
      "FT Made Rnk     630 non-null int64\n",
      "FT ATT Rnk      630 non-null int64\n",
      "FT% Rnk         630 non-null int64\n",
      "Total Points    630 non-null int64\n",
      "dtypes: float64(2), int64(11), object(3)\n",
      "memory usage: 78.8+ KB\n"
     ]
    }
   ],
   "source": [
    "NBA_Data[\"Venue\"].fillna('Total',inplace = True)\n",
    "NBA_Data.info()"
   ]
  },
  {
   "cell_type": "markdown",
   "metadata": {},
   "source": [
    "# Team Name Repeats\n",
    "\n",
    "Charlotte Bobcats became Charlotte Hornets\n",
    "New Orleans Hornets became the New Orleans Pelicans\n",
    "Los Angeles Clippers became LA Clippers"
   ]
  },
  {
   "cell_type": "code",
   "execution_count": 45,
   "metadata": {},
   "outputs": [
    {
     "name": "stdout",
     "output_type": "stream",
     "text": [
      "33\n",
      "['Atlanta Hawks' 'Boston Celtics' 'Brooklyn Nets' 'Charlotte Bobcats'\n",
      " 'Chicago Bulls' 'Cleveland Cavaliers' 'Dallas Mavericks' 'Denver Nuggets'\n",
      " 'Detroit Pistons' 'Golden State Warriors' 'Houston Rockets'\n",
      " 'Indiana Pacers' 'Los Angeles Clippers' 'Los Angeles Lakers'\n",
      " 'Memphis Grizzlies' 'Miami Heat' 'Milwaukee Bucks'\n",
      " 'Minnesota Timberwolves' 'New Orleans Hornets' 'New York Knicks'\n",
      " 'Oklahoma City Thunder' 'Orlando Magic' 'Philadelphia 76ers'\n",
      " 'Phoenix Suns' 'Portland Trail Blazers' 'Sacramento Kings'\n",
      " 'San Antonio Spurs' 'Toronto Raptors' 'Utah Jazz' 'Washington Wizards'\n",
      " 'New Orleans Pelicans' 'Charlotte Hornets' 'LA Clippers']\n"
     ]
    }
   ],
   "source": [
    "print(NBA_Data[\"Team\"].nunique())\n",
    "print(NBA_Data[\"Team\"].unique())"
   ]
  },
  {
   "cell_type": "code",
   "execution_count": 56,
   "metadata": {},
   "outputs": [
    {
     "name": "stdout",
     "output_type": "stream",
     "text": [
      "30\n",
      "['Atlanta Hawks' 'Boston Celtics' 'Brooklyn Nets' 'Charlotte Hornets'\n",
      " 'Chicago Bulls' 'Cleveland Cavaliers' 'Dallas Mavericks' 'Denver Nuggets'\n",
      " 'Detroit Pistons' 'Golden State Warriors' 'Houston Rockets'\n",
      " 'Indiana Pacers' 'LA Clippers' 'Los Angeles Lakers' 'Memphis Grizzlies'\n",
      " 'Miami Heat' 'Milwaukee Bucks' 'Minnesota Timberwolves'\n",
      " 'New Orleans Pelicans' 'New York Knicks' 'Oklahoma City Thunder'\n",
      " 'Orlando Magic' 'Philadelphia 76ers' 'Phoenix Suns'\n",
      " 'Portland Trail Blazers' 'Sacramento Kings' 'San Antonio Spurs'\n",
      " 'Toronto Raptors' 'Utah Jazz' 'Washington Wizards']\n"
     ]
    },
    {
     "name": "stderr",
     "output_type": "stream",
     "text": [
      "/anaconda3/lib/python3.7/site-packages/pandas/core/indexing.py:189: SettingWithCopyWarning: \n",
      "A value is trying to be set on a copy of a slice from a DataFrame\n",
      "\n",
      "See the caveats in the documentation: http://pandas.pydata.org/pandas-docs/stable/indexing.html#indexing-view-versus-copy\n",
      "  self._setitem_with_indexer(indexer, value)\n"
     ]
    }
   ],
   "source": [
    "NBA_Data[\"Team\"].loc[NBA_Data[\"Team\"] == \"Los Angeles Clippers\"]=\"LA Clippers\"\n",
    "NBA_Data[\"Team\"].loc[NBA_Data[\"Team\"] == \"Charlotte Bobcats\"] = \"Charlotte Hornets\"\n",
    "NBA_Data[\"Team\"].loc[NBA_Data[\"Team\"] == \"New Orleans Hornets\"] = \"New Orleans Pelicans\"\n",
    "print(NBA_Data[\"Team\"].nunique())\n",
    "print(NBA_Data[\"Team\"].unique())"
   ]
  },
  {
   "cell_type": "code",
   "execution_count": 68,
   "metadata": {},
   "outputs": [
    {
     "data": {
      "text/plain": [
       "<matplotlib.collections.PathCollection at 0x11a282198>"
      ]
     },
     "execution_count": 68,
     "metadata": {},
     "output_type": "execute_result"
    },
    {
     "data": {
      "image/png": "[encoded data removed]",
      "text/plain": [
       "<Figure size 432x288 with 1 Axes>"
      ]
     },
     "metadata": {
      "needs_background": "light"
     },
     "output_type": "display_data"
    }
   ],
   "source": [
    "away=NBA_Data.loc[NBA_Data[\"Venue\"] == \"Road\"]\n",
    "home=NBA_Data.loc[NBA_Data[\"Venue\"] == \"Home\"]\n",
    "total=NBA_Data.loc[NBA_Data[\"Venue\"] == \"Total\"]\n",
    "\n",
    "plt.scatter(away[\"Wins\"],away[\"FT Made\"], marker=\"o\", color=\"#17408B\")\n",
    "plt.scatter(home[\"Wins\"],home[\"FT Made\"], marker=\"s\", edgecolors=\"black\", color=\"#FFFFFF\")\n",
    "#plt.scatter(total[\"Wins\"],total[\"FT Att\"], marker=\"s\", color=\"#C9082A\")"
   ]
  },
  {
   "cell_type": "code",
   "execution_count": 69,
   "metadata": {},
   "outputs": [
    {
     "data": {
      "text/html": [
       "<div>\n",
       "<style scoped>\n",
       "    .dataframe tbody tr th:only-of-type {\n",
       "        vertical-align: middle;\n",
       "    }\n",
       "\n",
       "    .dataframe tbody tr th {\n",
       "        vertical-align: top;\n",
       "    }\n",
       "\n",
       "    .dataframe thead th {\n",
       "        text-align: right;\n",
       "    }\n",
       "</style>\n",
       "<table border=\"1\" class=\"dataframe\">\n",
       "  <thead>\n",
       "    <tr style=\"text-align: right;\">\n",
       "      <th></th>\n",
       "      <th>Wins</th>\n",
       "      <th>Loss</th>\n",
       "      <th>Win%</th>\n",
       "      <th>FT Made</th>\n",
       "      <th>FT Att</th>\n",
       "      <th>FT%</th>\n",
       "      <th>Loss Rnk</th>\n",
       "      <th>Win% Rnk</th>\n",
       "      <th>FT Made Rnk</th>\n",
       "      <th>FT ATT Rnk</th>\n",
       "      <th>FT% Rnk</th>\n",
       "      <th>Total Points</th>\n",
       "    </tr>\n",
       "    <tr>\n",
       "      <th>Win Rnk</th>\n",
       "      <th></th>\n",
       "      <th></th>\n",
       "      <th></th>\n",
       "      <th></th>\n",
       "      <th></th>\n",
       "      <th></th>\n",
       "      <th></th>\n",
       "      <th></th>\n",
       "      <th></th>\n",
       "      <th></th>\n",
       "      <th></th>\n",
       "      <th></th>\n",
       "    </tr>\n",
       "  </thead>\n",
       "  <tbody>\n",
       "    <tr>\n",
       "      <th>1</th>\n",
       "      <td>65.571429</td>\n",
       "      <td>16.000000</td>\n",
       "      <td>0.803571</td>\n",
       "      <td>1410.428571</td>\n",
       "      <td>1823.857143</td>\n",
       "      <td>0.773429</td>\n",
       "      <td>1.000</td>\n",
       "      <td>1.0</td>\n",
       "      <td>16.571429</td>\n",
       "      <td>18.142857</td>\n",
       "      <td>11.285714</td>\n",
       "      <td>9079.285714</td>\n",
       "    </tr>\n",
       "    <tr>\n",
       "      <th>2</th>\n",
       "      <td>60.285714</td>\n",
       "      <td>21.428571</td>\n",
       "      <td>0.737857</td>\n",
       "      <td>1491.285714</td>\n",
       "      <td>1858.571429</td>\n",
       "      <td>0.801429</td>\n",
       "      <td>2.000</td>\n",
       "      <td>2.0</td>\n",
       "      <td>13.142857</td>\n",
       "      <td>17.142857</td>\n",
       "      <td>3.571429</td>\n",
       "      <td>8744.714286</td>\n",
       "    </tr>\n",
       "    <tr>\n",
       "      <th>3</th>\n",
       "      <td>56.500000</td>\n",
       "      <td>25.125000</td>\n",
       "      <td>0.692125</td>\n",
       "      <td>1469.875000</td>\n",
       "      <td>1944.875000</td>\n",
       "      <td>0.759500</td>\n",
       "      <td>2.875</td>\n",
       "      <td>3.0</td>\n",
       "      <td>12.500000</td>\n",
       "      <td>13.000000</td>\n",
       "      <td>16.375000</td>\n",
       "      <td>8897.250000</td>\n",
       "    </tr>\n",
       "    <tr>\n",
       "      <th>4</th>\n",
       "      <td>55.000000</td>\n",
       "      <td>26.500000</td>\n",
       "      <td>0.674833</td>\n",
       "      <td>1465.666667</td>\n",
       "      <td>1916.666667</td>\n",
       "      <td>0.765833</td>\n",
       "      <td>4.000</td>\n",
       "      <td>4.0</td>\n",
       "      <td>13.333333</td>\n",
       "      <td>13.833333</td>\n",
       "      <td>14.666667</td>\n",
       "      <td>8534.166667</td>\n",
       "    </tr>\n",
       "    <tr>\n",
       "      <th>5</th>\n",
       "      <td>53.357143</td>\n",
       "      <td>28.500000</td>\n",
       "      <td>0.652000</td>\n",
       "      <td>1494.357143</td>\n",
       "      <td>1961.071429</td>\n",
       "      <td>0.763143</td>\n",
       "      <td>5.000</td>\n",
       "      <td>5.0</td>\n",
       "      <td>10.857143</td>\n",
       "      <td>11.071429</td>\n",
       "      <td>15.357143</td>\n",
       "      <td>8609.642857</td>\n",
       "    </tr>\n",
       "  </tbody>\n",
       "</table>\n",
       "</div>"
      ],
      "text/plain": [
       "              Wins       Loss      Win%      FT Made       FT Att       FT%  \\\n",
       "Win Rnk                                                                       \n",
       "1        65.571429  16.000000  0.803571  1410.428571  1823.857143  0.773429   \n",
       "2        60.285714  21.428571  0.737857  1491.285714  1858.571429  0.801429   \n",
       "3        56.500000  25.125000  0.692125  1469.875000  1944.875000  0.759500   \n",
       "4        55.000000  26.500000  0.674833  1465.666667  1916.666667  0.765833   \n",
       "5        53.357143  28.500000  0.652000  1494.357143  1961.071429  0.763143   \n",
       "\n",
       "         Loss Rnk  Win% Rnk  FT Made Rnk  FT ATT Rnk    FT% Rnk  Total Points  \n",
       "Win Rnk                                                                        \n",
       "1           1.000       1.0    16.571429   18.142857  11.285714   9079.285714  \n",
       "2           2.000       2.0    13.142857   17.142857   3.571429   8744.714286  \n",
       "3           2.875       3.0    12.500000   13.000000  16.375000   8897.250000  \n",
       "4           4.000       4.0    13.333333   13.833333  14.666667   8534.166667  \n",
       "5           5.000       5.0    10.857143   11.071429  15.357143   8609.642857  "
      ]
     },
     "execution_count": 69,
     "metadata": {},
     "output_type": "execute_result"
    }
   ],
   "source": [
    "Win_Rank=total.groupby(\"Win Rnk\").mean()\n",
    "Win_Rank.head()"
   ]
  },
  {
   "cell_type": "code",
   "execution_count": 79,
   "metadata": {},
   "outputs": [
    {
     "data": {
      "text/plain": [
       "[<matplotlib.lines.Line2D at 0x11a7d4860>]"
      ]
     },
     "execution_count": 79,
     "metadata": {},
     "output_type": "execute_result"
    },
    {
     "data": {
      "image/png": "[encoded data removed]",
      "text/plain": [
       "<Figure size 432x288 with 1 Axes>"
      ]
     },
     "metadata": {
      "needs_background": "light"
     },
     "output_type": "display_data"
    }
   ],
   "source": [
    "x=Win_Rank.index\n",
    "y=Win_Rank[\"FT%\"]\n",
    "plt.scatter(x,y, color=\"#17408B\" )\n",
    "\n",
    "z = np.polyfit(x, y, 1)\n",
    "p = np.poly1d(z)\n",
    "plt.plot(x,p(x), linestyle=\"--\" ,color=\"#C9082A\" )"
   ]
  },
  {
   "cell_type": "code",
   "execution_count": null,
   "metadata": {},
   "outputs": [],
   "source": []
  }
 ],
 "metadata": {
  "kernelspec": {
   "display_name": "Python 3",
   "language": "python",
   "name": "python3"
  },
  "language_info": {
   "codemirror_mode": {
    "name": "ipython",
    "version": 3
   },
   "file_extension": ".py",
   "mimetype": "text/x-python",
   "name": "python",
   "nbconvert_exporter": "python",
   "pygments_lexer": "ipython3",
   "version": "3.7.2"
  }
 },
 "nbformat": 4,
 "nbformat_minor": 2
}

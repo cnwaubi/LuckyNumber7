{
 "cells": [
  {
   "cell_type": "markdown",
   "metadata": {},
   "source": [
    "# Getting the Data\n",
    "\n",
    "## Finding the source\n",
    "\n",
    "When we were checking different sites for basketball data, we ran across one website that had what we needed.\n",
    "\n",
    "[stats.nba.com](https://stats.nba.com/teams/traditional/?sort=W_PCT&dir=-1)\n",
    "\n",
    "![NBA Stats site](./Images/stats.nba.com.png)\n",
    "\n",
    "The problem we had was that it it's not an api, and there wasn't a way to get that data in terms of a CSV. And we didn't want to copy and paste each page individually.\n",
    "\n",
    "## Getting the URL\n",
    "\n",
    "We observed that when you put in the parameters of the page, only the frame loaded. We opened up Chrome Dev Tools to the networking tab and then looked what happened when you clicked run it.\n",
    "\n",
    "![Chrome Exploration](./Images/dev_tools.png)\n",
    "\n",
    "A close up of the url is shown here:\n",
    "\n",
    "![Chrome Exploration](./Images/devurl.png)\n",
    "\n",
    "`https://stats.nba.com/stats/leaguedashteamstats?Conference=&DateFrom=&DateTo=&Division=&GameScope=&GameSegment=&LastNGames=0&LeagueID=00&Location=Home&MeasureType=Base&Month=0&OpponentTeamID=0&Outcome=&PORound=0&PaceAdjust=N&PerMode=Totals&Period=0&PlayerExperience=&PlayerPosition=&PlusMinus=N&Rank=N&Season=2018-19&SeasonSegment=&SeasonType=Regular+Season&ShotClockRange=&StarterBench=&TeamID=0&TwoWay=0&VsConference=&VsDivision=`\n",
    "\n",
    "## Verify that it returns data in the right format\n",
    "\n",
    "We simply pasted it into a browser to look and see if it was JSON compatibatible and it was.\n",
    "\n",
    "![Data Check](./Images/url_response.png)\n",
    "\n",
    "## Automate and combine the dataframe\n",
    "\n",
    "From here, we went to the notebook to code the data scraping. Using the principles we learned \n",
    "from using python APIs, we decided to build our own dataframes."
   ]
  },
  {
   "cell_type": "code",
   "execution_count": 1,
   "metadata": {},
   "outputs": [],
   "source": [
    "import pandas as pd\n",
    "import requests as rq\n",
    "import json"
   ]
  },
  {
   "cell_type": "code",
   "execution_count": 2,
   "metadata": {},
   "outputs": [
    {
     "name": "stdout",
     "output_type": "stream",
     "text": [
      "Getting data for 2012-13 Home\n",
      "Getting data for 2012-13 Road\n",
      "Getting data for 2012-13 None\n",
      "Getting data for 2013-14 Home\n",
      "Getting data for 2013-14 Road\n",
      "Getting data for 2013-14 None\n",
      "Getting data for 2014-15 Home\n",
      "Getting data for 2014-15 Road\n",
      "Getting data for 2014-15 None\n",
      "Getting data for 2015-16 Home\n",
      "Getting data for 2015-16 Road\n",
      "Getting data for 2015-16 None\n",
      "Getting data for 2016-17 Home\n",
      "Getting data for 2016-17 Road\n",
      "Getting data for 2016-17 None\n",
      "Getting data for 2017-18 Home\n",
      "Getting data for 2017-18 Road\n",
      "Getting data for 2017-18 None\n",
      "Getting data for 2018-19 Home\n",
      "Getting data for 2018-19 Road\n",
      "Getting data for 2018-19 None\n",
      "Data scrape is done\n"
     ]
    }
   ],
   "source": [
    "#define initial seasons and make a values for the home and road parameters\n",
    "seasons=[ \"2012-13\",\"2013-14\",\"2014-15\",\"2015-16\",\"2016-17\",\"2017-18\",\"2018-19\"]\n",
    "# This null value here is a combined total of home and road\n",
    "venues=[\"Home\" , \"Road\" , \"\" ]\n",
    "# This is the user agent string of Microsoft Edge. \n",
    "header_data= { \"User-Agent\":\"Mozilla/5.0 (Windows NT 10.0; Win64; x64) AppleWebKit/537.36 (KHTML like Gecko) Chrome/51.0.2704.79 Safari/537.36 Edge/14.14931\"}\n",
    "\n",
    "# set up lists to hold reponse info\n",
    "year =[]\n",
    "location =[]\n",
    "team =[]\n",
    "win=[]\n",
    "loss = []\n",
    "win_pct =[]\n",
    "ftm = []\n",
    "fta =[]\n",
    "ft_pct =[]\n",
    "w_rnk =[]\n",
    "l_ank =[]\n",
    "w_pct_rnk = []\n",
    "ftm_rnk = []\n",
    "fta_rnk =[]\n",
    "ft_pct_rnk =[]\n",
    "total_points=[]\n",
    "\n",
    "\n",
    "#i is the index for season\n",
    "i=0\n",
    "#j is the index for home_away\n",
    "j=1\n",
    "\n",
    "#loop through seasons and venuses and use the url described in the first section.\n",
    "for season in seasons:\n",
    "    for venue in venues:\n",
    "        urlliteral= f\"https://stats.nba.com/stats/leaguedashteamstats?Conference=&DateFrom=&DateTo=&Division=&GameScope=&GameSegment=&LastNGames=0&LeagueID=00&Location={venue}&MeasureType=Base&Month=0&OpponentTeamID=0&Outcome=&PORound=0&PaceAdjust=N&PerMode=Totals&Period=0&PlayerExperience=&PlayerPosition=&PlusMinus=N&Rank=N&Season={season}&SeasonSegment=&SeasonType=Regular+Season&ShotClockRange=&StarterBench=&TeamID=0&TwoWay=0&VsConference=&VsDivision=\"\n",
    "        new=rq.get(urlliteral, headers=header_data).json()\n",
    "        #This loops through the teams. There are 30 of them and it's static. The data comes out as rows\n",
    "        for t in range(0,30,1):\n",
    "            team.append(new[\"resultSets\"][0][\"rowSet\"][t][1])\n",
    "            win.append(new[\"resultSets\"][0][\"rowSet\"][t][3])\n",
    "            loss.append(new[\"resultSets\"][0][\"rowSet\"][t][4])\n",
    "            win_pct.append(new[\"resultSets\"][0][\"rowSet\"][t][5])\n",
    "            ftm.append(new[\"resultSets\"][0][\"rowSet\"][t][13])\n",
    "            fta.append(new[\"resultSets\"][0][\"rowSet\"][t][14])\n",
    "            ft_pct.append(new[\"resultSets\"][0][\"rowSet\"][t][15])\n",
    "            w_rnk.append(new[\"resultSets\"][0][\"rowSet\"][t][29])\n",
    "            l_ank.append(new[\"resultSets\"][0][\"rowSet\"][t][30])\n",
    "            w_pct_rnk.append(new[\"resultSets\"][0][\"rowSet\"][t][31])\n",
    "            ftm_rnk.append(new[\"resultSets\"][0][\"rowSet\"][t][39])\n",
    "            fta_rnk.append(new[\"resultSets\"][0][\"rowSet\"][t][40])\n",
    "            ft_pct_rnk.append(new[\"resultSets\"][0][\"rowSet\"][t][41])\n",
    "            total_points.append(new[\"resultSets\"][0][\"rowSet\"][t][26])\n",
    "            year.append(new['parameters'][\"Season\"])\n",
    "            location.append(new['parameters'][\"Location\"])\n",
    "        print(f\"Getting data for {new['parameters']['Season']} {new['parameters']['Location']}\")\n",
    "\n",
    "print(\"Data scrape is done\")\n",
    "              \n",
    "# This makes it look a lot cleaner than it was. There was a lot of navigating the JSON and printing\n",
    "# Until we were able to find the right data locations.\n",
    "# Additionally, we did a few trial loops and printed the responses to make sure the requests aligned\n",
    "# with the responses\n",
    "              \n",
    "              "
   ]
  },
  {
   "cell_type": "code",
   "execution_count": 3,
   "metadata": {},
   "outputs": [
    {
     "name": "stdout",
     "output_type": "stream",
     "text": [
      "<class 'pandas.core.frame.DataFrame'>\n",
      "RangeIndex: 630 entries, 0 to 629\n",
      "Data columns (total 16 columns):\n",
      "Team            630 non-null object\n",
      "Season          630 non-null object\n",
      "Venue           420 non-null object\n",
      "Wins            630 non-null int64\n",
      "Loss            630 non-null int64\n",
      "Win%            630 non-null float64\n",
      "FT Made         630 non-null int64\n",
      "FT Att          630 non-null int64\n",
      "FT%             630 non-null float64\n",
      "Win Rnk         630 non-null int64\n",
      "Loss Rnk        630 non-null int64\n",
      "Win% Rnk        630 non-null int64\n",
      "FT Made Rnk     630 non-null int64\n",
      "FT ATT Rnk      630 non-null int64\n",
      "FT% Rnk         630 non-null int64\n",
      "Total Points    630 non-null int64\n",
      "dtypes: float64(2), int64(11), object(3)\n",
      "memory usage: 78.8+ KB\n"
     ]
    }
   ],
   "source": [
    "#Add all the lists into a dictionary\n",
    "nba_dict  = {\n",
    "   \"Team\": team,\n",
    "    \"Season\": year,\n",
    "   \"Venue\": location,\n",
    "   \"Wins\": win,\n",
    "   \"Loss\": loss,\n",
    "   \"Win%\": win_pct,\n",
    "   \"FT Made\": ftm,\n",
    "   \"FT Att\": fta,\n",
    "   \"FT%\": ft_pct,\n",
    "   \"Win Rnk\": w_rnk,\n",
    "   \"Loss Rnk\": l_ank,\n",
    "   \"Win% Rnk\": w_pct_rnk,\n",
    "   \"FT Made Rnk\": ftm_rnk,\n",
    "   \"FT ATT Rnk\": fta_rnk,\n",
    "   \"FT% Rnk\": ft_pct_rnk,\n",
    "   \"Total Points\": total_points\n",
    "}\n",
    "\n",
    "#Create the dataframe\n",
    "nba_data = pd.DataFrame(nba_dict)\n",
    "#Look at the data\n",
    "nba_data.info()"
   ]
  },
  {
   "cell_type": "markdown",
   "metadata": {},
   "source": [
    "# Fill the Null Values with Total\n",
    "\n",
    "The way the HTTP reqeust worked, the combined data of home and away data had no parameter in the value.\n",
    "\n",
    "This fills them with Total"
   ]
  },
  {
   "cell_type": "code",
   "execution_count": 4,
   "metadata": {},
   "outputs": [
    {
     "name": "stdout",
     "output_type": "stream",
     "text": [
      "<class 'pandas.core.frame.DataFrame'>\n",
      "RangeIndex: 630 entries, 0 to 629\n",
      "Data columns (total 16 columns):\n",
      "Team            630 non-null object\n",
      "Season          630 non-null object\n",
      "Venue           630 non-null object\n",
      "Wins            630 non-null int64\n",
      "Loss            630 non-null int64\n",
      "Win%            630 non-null float64\n",
      "FT Made         630 non-null int64\n",
      "FT Att          630 non-null int64\n",
      "FT%             630 non-null float64\n",
      "Win Rnk         630 non-null int64\n",
      "Loss Rnk        630 non-null int64\n",
      "Win% Rnk        630 non-null int64\n",
      "FT Made Rnk     630 non-null int64\n",
      "FT ATT Rnk      630 non-null int64\n",
      "FT% Rnk         630 non-null int64\n",
      "Total Points    630 non-null int64\n",
      "dtypes: float64(2), int64(11), object(3)\n",
      "memory usage: 78.8+ KB\n"
     ]
    }
   ],
   "source": [
    "# Fill the null values with the word Total as the null values are both the home and away games.\n",
    "nba_data[\"Venue\"].fillna('Total',inplace = True)\n",
    "\n",
    "#display the df info\n",
    "nba_data.info()"
   ]
  },
  {
   "cell_type": "markdown",
   "metadata": {},
   "source": [
    "## Team Name Repeats\n",
    "\n",
    "Some teams changed names and some teams had typos.\n",
    "\n",
    "Charlotte Bobcats became Charlotte Hornets.\n",
    "\n",
    "New Orleans Hornets became the New Orleans Pelicans.\n",
    "\n",
    "Los Angeles Clippers became LA Clippers."
   ]
  },
  {
   "cell_type": "code",
   "execution_count": 5,
   "metadata": {},
   "outputs": [
    {
     "name": "stdout",
     "output_type": "stream",
     "text": [
      "33\n",
      "['Atlanta Hawks' 'Boston Celtics' 'Brooklyn Nets' 'Charlotte Bobcats'\n",
      " 'Chicago Bulls' 'Cleveland Cavaliers' 'Dallas Mavericks' 'Denver Nuggets'\n",
      " 'Detroit Pistons' 'Golden State Warriors' 'Houston Rockets'\n",
      " 'Indiana Pacers' 'Los Angeles Clippers' 'Los Angeles Lakers'\n",
      " 'Memphis Grizzlies' 'Miami Heat' 'Milwaukee Bucks'\n",
      " 'Minnesota Timberwolves' 'New Orleans Hornets' 'New York Knicks'\n",
      " 'Oklahoma City Thunder' 'Orlando Magic' 'Philadelphia 76ers'\n",
      " 'Phoenix Suns' 'Portland Trail Blazers' 'Sacramento Kings'\n",
      " 'San Antonio Spurs' 'Toronto Raptors' 'Utah Jazz' 'Washington Wizards'\n",
      " 'New Orleans Pelicans' 'Charlotte Hornets' 'LA Clippers']\n"
     ]
    }
   ],
   "source": [
    "# Display the team name repeats\n",
    "print(nba_data[\"Team\"].nunique())\n",
    "print(nba_data[\"Team\"].unique())"
   ]
  },
  {
   "cell_type": "code",
   "execution_count": 6,
   "metadata": {},
   "outputs": [
    {
     "name": "stdout",
     "output_type": "stream",
     "text": [
      "30\n",
      "['Atlanta Hawks' 'Boston Celtics' 'Brooklyn Nets' 'Charlotte Hornets'\n",
      " 'Chicago Bulls' 'Cleveland Cavaliers' 'Dallas Mavericks' 'Denver Nuggets'\n",
      " 'Detroit Pistons' 'Golden State Warriors' 'Houston Rockets'\n",
      " 'Indiana Pacers' 'LA Clippers' 'Los Angeles Lakers' 'Memphis Grizzlies'\n",
      " 'Miami Heat' 'Milwaukee Bucks' 'Minnesota Timberwolves'\n",
      " 'New Orleans Pelicans' 'New York Knicks' 'Oklahoma City Thunder'\n",
      " 'Orlando Magic' 'Philadelphia 76ers' 'Phoenix Suns'\n",
      " 'Portland Trail Blazers' 'Sacramento Kings' 'San Antonio Spurs'\n",
      " 'Toronto Raptors' 'Utah Jazz' 'Washington Wizards']\n"
     ]
    }
   ],
   "source": [
    "# Replace the team names and display the changed data frame.\n",
    "nba_data[\"Team\"].replace(\"Los Angeles Clippers\",\"LA Clippers\", inplace=True)\n",
    "nba_data[\"Team\"].replace(\"Charlotte Bobcats\",\"Charlotte Hornets\" ,inplace=True)\n",
    "nba_data[\"Team\"].replace(\"New Orleans Hornets\" ,\"New Orleans Pelicans\", inplace=True)\n",
    "print(nba_data[\"Team\"].nunique())\n",
    "print(nba_data[\"Team\"].unique())"
   ]
  },
  {
   "cell_type": "code",
   "execution_count": 7,
   "metadata": {},
   "outputs": [],
   "source": [
    "#Write to csv\n",
    "nba_data.to_csv(\"./Data/NBA_Free_Throw_Data.csv\", index=False)"
   ]
  },
  {
   "cell_type": "code",
   "execution_count": null,
   "metadata": {},
   "outputs": [],
   "source": []
  }
 ],
 "metadata": {
  "kernelspec": {
   "display_name": "Python 3",
   "language": "python",
   "name": "python3"
  },
  "language_info": {
   "codemirror_mode": {
    "name": "ipython",
    "version": 3
   },
   "file_extension": ".py",
   "mimetype": "text/x-python",
   "name": "python",
   "nbconvert_exporter": "python",
   "pygments_lexer": "ipython3",
   "version": "3.7.1"
  }
 },
 "nbformat": 4,
 "nbformat_minor": 2
}
